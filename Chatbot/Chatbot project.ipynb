{
 "cells": [
  {
   "cell_type": "code",
   "execution_count": 44,
   "metadata": {},
   "outputs": [],
   "source": [
    "import numpy as np\n",
    "import nltk\n",
    "import string\n",
    "import random\n",
    "from sklearn.feature_extraction.text import TfidfVectorizer\n",
    "from sklearn.metrics.pairwise import cosine_similarity"
   ]
  },
  {
   "cell_type": "code",
   "execution_count": 8,
   "metadata": {},
   "outputs": [],
   "source": [
    "def read_file():\n",
    "    f = open('PMglossary.txt', errors=\"ignore\")\n",
    "    raw_text=f.read()\n",
    "    raw_text=raw_text.lower()\n",
    "    return raw_text"
   ]
  },
  {
   "cell_type": "code",
   "execution_count": 15,
   "metadata": {},
   "outputs": [],
   "source": [
    "raw_text=read_file()\n",
    "sent_tokens=nltk.sent_tokenize(raw_text) # tokenize sentence\n",
    "word_tokens=nltk.word_tokenize(raw_text) # tokenize words\n",
    "\n",
    "lemmer=nltk.stem.WordNetLemmatizer()"
   ]
  },
  {
   "cell_type": "code",
   "execution_count": 48,
   "metadata": {},
   "outputs": [],
   "source": [
    "def Lemtokens(tokens):\n",
    "    return [lemmer.lemmatize(token) for token in tokens]\n",
    "\n",
    "remove_punc_dict=dict((ord(punct),None) for punct in string. punctuation)\n",
    "\n",
    "def LemNormalize(text):\n",
    "    return Lemtokens(nltk.word_tokenize(text.lower().translate(remove_punc_dict)))"
   ]
  },
  {
   "cell_type": "code",
   "execution_count": 36,
   "metadata": {},
   "outputs": [],
   "source": [
    "Greetings_text=(\"hello\", \"hi\", \"good morning\", \"good afternoon\", \"good evening\", \"hey\", \"whatsup\")\n",
    "Greetings_response=[\"Hi There\",\"Hi\",\"Hello\"]\n",
    "\n",
    "def greeting(sentence):\n",
    "    for word in sentence.split():\n",
    "        if word.lower() in Greetings_text:\n",
    "            return random.choice(Greetings_response)"
   ]
  },
  {
   "cell_type": "code",
   "execution_count": 79,
   "metadata": {},
   "outputs": [],
   "source": [
    "def response(user_response):\n",
    "    robot_response=\"\"\n",
    "    sent_tokens.append(user_response)\n",
    "    TfidfVec = TfidfVectorizer(tokenizer=LemNormalize, stop_words=\"english\")\n",
    "    Tfidf = TfidfVec.fit_transform(sent_tokens)\n",
    "    vals = cosine_similarity(Tfidf[-1],Tfidf)\n",
    "    idx = vals.argsort()[0][-2]\n",
    "    \n",
    "    flat=vals.flatten()\n",
    "    flat.sort()\n",
    "    req_tfidf=flat[-2]\n",
    "    \n",
    "    if (req_tfidf == 0):\n",
    "        robot_response = robot_response + \"I am sorry! I don't understand you\"\n",
    "    else:\n",
    "        robot_response = robot_response + sent_tokens[idx]\n",
    "#     sent_tokens.remove(user_response)\n",
    "    return robot_response"
   ]
  },
  {
   "cell_type": "code",
   "execution_count": 77,
   "metadata": {},
   "outputs": [
    {
     "name": "stdout",
     "output_type": "stream",
     "text": [
      "capability maturity model (cmm) in software engineering is a model of the maturity of the capability of certain business processes.\n"
     ]
    }
   ],
   "source": [
    "print(response(\"Capability\"))"
   ]
  },
  {
   "cell_type": "code",
   "execution_count": 81,
   "metadata": {},
   "outputs": [],
   "source": [
    "def run_robot():\n",
    "    flag = True\n",
    "    print(\"CBrobo: My name is CB robot. Type your query on project management. If you want to quit then type bye or thank you.\")\n",
    "\n",
    "    while (flag == True):\n",
    "        user_response = input()\n",
    "        user_response = user_response.lower()\n",
    "        if (user_response != \"bye\"):\n",
    "            if user_response == \"thanks\" or user_response == \"thank you\":\n",
    "                flag = False\n",
    "                print(\"CBrobo: Thanks\")\n",
    "            else:\n",
    "                if(greeting(user_response) != None):\n",
    "                    print(\"CBrobo:\" + greeting(user_response))\n",
    "                else:\n",
    "                    print(\"CBrobot: \",end=\"\")\n",
    "                    print(response(user_response))\n",
    "                    sent_tokens.remove(user_response)\n",
    "        else:\n",
    "            flag = False\n",
    "            print(\"ROBO: Bye! take care..\")"
   ]
  },
  {
   "cell_type": "code",
   "execution_count": 82,
   "metadata": {},
   "outputs": [
    {
     "name": "stdout",
     "output_type": "stream",
     "text": [
      "CBrobo: My name is CB robot. Type your query on project management. If you want to quit then type bye or thank you.\n",
      "hello\n",
      "CBrobo:Hi\n",
      "what is CPM\n",
      "CBrobot: critical path method (cpm) is a mathematically based modeling technique for scheduling a set of project activities, used in project management.\n",
      "ok, tell me about CPI\n",
      "CBrobot: CPI\n",
      "SPI\n",
      "CBrobot: SPI\n",
      "EVM\n",
      "CBrobot: earned value management (evm) is a project management technique for measuring project progress in an objective manner, with a combination of measuring scope, schedule, and cost in a single integrated system.\n",
      "agile project manager does what?\n",
      "CBrobot: Agile project\n",
      "OD?\n",
      "CBrobot: organization development (od) is a planned, structured, organization-wide effort to increase the organization's effectiveness and health.\n",
      "bye\n",
      "ROBO: Bye! take care..\n"
     ]
    }
   ],
   "source": [
    "run_robot()"
   ]
  },
  {
   "cell_type": "code",
   "execution_count": null,
   "metadata": {},
   "outputs": [],
   "source": []
  }
 ],
 "metadata": {
  "kernelspec": {
   "display_name": "Python 3",
   "language": "python",
   "name": "python3"
  },
  "language_info": {
   "codemirror_mode": {
    "name": "ipython",
    "version": 3
   },
   "file_extension": ".py",
   "mimetype": "text/x-python",
   "name": "python",
   "nbconvert_exporter": "python",
   "pygments_lexer": "ipython3",
   "version": "3.7.1"
  }
 },
 "nbformat": 4,
 "nbformat_minor": 2
}
